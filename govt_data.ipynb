{
 "cells": [
  {
   "cell_type": "code",
   "execution_count": 132,
   "metadata": {},
   "outputs": [],
   "source": [
    "import pandas as pd\n",
    "import numpy as np\n",
    "import matplotlib.pyplot as plt\n",
    "import functools as ft"
   ]
  },
  {
   "cell_type": "code",
   "execution_count": 2,
   "metadata": {},
   "outputs": [],
   "source": [
    "df=pd.read_csv('NCRB_CII_2018_State_Table12A.3.csv')"
   ]
  },
  {
   "cell_type": "code",
   "execution_count": 3,
   "metadata": {},
   "outputs": [
    {
     "data": {
      "text/html": [
       "<div>\n",
       "<style scoped>\n",
       "    .dataframe tbody tr th:only-of-type {\n",
       "        vertical-align: middle;\n",
       "    }\n",
       "\n",
       "    .dataframe tbody tr th {\n",
       "        vertical-align: top;\n",
       "    }\n",
       "\n",
       "    .dataframe thead th {\n",
       "        text-align: right;\n",
       "    }\n",
       "</style>\n",
       "<table border=\"1\" class=\"dataframe\">\n",
       "  <thead>\n",
       "    <tr style=\"text-align: right;\">\n",
       "      <th></th>\n",
       "      <th>S. No</th>\n",
       "      <th>State/UT</th>\n",
       "      <th>Women - Acts - The Immoral Traffic (Prevention) Act, 1956</th>\n",
       "      <th>Children Related - Acts - The Protection of Children from Sexual Offences Act, 2012</th>\n",
       "      <th>Children Related - Acts - The Juvenile Justice Act, 2000</th>\n",
       "      <th>Children Related - Acts - The Child Labour Act</th>\n",
       "      <th>SCs &amp; STs - Related Acts - The SC/ST Prevention of Atrocities Act, 1989/ 2015 against SCs</th>\n",
       "      <th>SCs &amp; STs - Related Acts - The SC/ST Prevention of Atrocities Act, 1989/ 2015 against STs</th>\n",
       "      <th>Offences against State - Related Acts - The Prevention of Damage to Public Property Act1, 1984</th>\n",
       "      <th>Arms/Explosive - Related Acts - The Arms Act, 1959</th>\n",
       "      <th>...</th>\n",
       "      <th>Other Regulatory &amp; Enforcement - Acts - The Essential Commodities Act, 1955</th>\n",
       "      <th>Other Regulatory &amp; Enforcement - Acts - The Gambling Act</th>\n",
       "      <th>Other Regulatory &amp; Enforcement - Acts - The Bonded Labour System Act, 1976</th>\n",
       "      <th>Other Regulatory &amp; Enforcement - Acts - The Bonded Labour System Act, 1976.1</th>\n",
       "      <th>Other Regulatory &amp; Enforcement - Acts - Defacement of Public Property Acts (State/ Central)</th>\n",
       "      <th>Other Regulatory &amp; Enforcement - Acts - Motor Vehicle Act</th>\n",
       "      <th>Other Regulatory &amp; Enforcement - Acts - City/Town Police Acts</th>\n",
       "      <th>Other Regulatory &amp; Enforcement - Acts - Other State Local Acts</th>\n",
       "      <th>Other SLL Crimes</th>\n",
       "      <th>Total Cognizable SLL Crimes</th>\n",
       "    </tr>\n",
       "  </thead>\n",
       "  <tbody>\n",
       "    <tr>\n",
       "      <th>0</th>\n",
       "      <td>1</td>\n",
       "      <td>Andhra Pradesh</td>\n",
       "      <td>0.0</td>\n",
       "      <td>1.0</td>\n",
       "      <td>0.0</td>\n",
       "      <td>0.0</td>\n",
       "      <td>1.0</td>\n",
       "      <td>0.0</td>\n",
       "      <td>0.0</td>\n",
       "      <td>0.0</td>\n",
       "      <td>...</td>\n",
       "      <td>0.0</td>\n",
       "      <td>0.0</td>\n",
       "      <td>0.0</td>\n",
       "      <td>1.0</td>\n",
       "      <td>0.0</td>\n",
       "      <td>0.0</td>\n",
       "      <td>0.0</td>\n",
       "      <td>0.0</td>\n",
       "      <td>1.0</td>\n",
       "      <td>40.0</td>\n",
       "    </tr>\n",
       "    <tr>\n",
       "      <th>1</th>\n",
       "      <td>2</td>\n",
       "      <td>Assam</td>\n",
       "      <td>0.0</td>\n",
       "      <td>0.0</td>\n",
       "      <td>0.0</td>\n",
       "      <td>0.0</td>\n",
       "      <td>0.0</td>\n",
       "      <td>0.0</td>\n",
       "      <td>0.0</td>\n",
       "      <td>2.0</td>\n",
       "      <td>...</td>\n",
       "      <td>0.0</td>\n",
       "      <td>0.0</td>\n",
       "      <td>0.0</td>\n",
       "      <td>0.0</td>\n",
       "      <td>0.0</td>\n",
       "      <td>0.0</td>\n",
       "      <td>0.0</td>\n",
       "      <td>0.0</td>\n",
       "      <td>1.0</td>\n",
       "      <td>67.0</td>\n",
       "    </tr>\n",
       "    <tr>\n",
       "      <th>2</th>\n",
       "      <td>3</td>\n",
       "      <td>Bihar</td>\n",
       "      <td>1.0</td>\n",
       "      <td>8.0</td>\n",
       "      <td>62.0</td>\n",
       "      <td>1.0</td>\n",
       "      <td>1.0</td>\n",
       "      <td>0.0</td>\n",
       "      <td>0.0</td>\n",
       "      <td>33.0</td>\n",
       "      <td>...</td>\n",
       "      <td>0.0</td>\n",
       "      <td>1.0</td>\n",
       "      <td>0.0</td>\n",
       "      <td>0.0</td>\n",
       "      <td>0.0</td>\n",
       "      <td>0.0</td>\n",
       "      <td>0.0</td>\n",
       "      <td>0.0</td>\n",
       "      <td>0.0</td>\n",
       "      <td>2662.0</td>\n",
       "    </tr>\n",
       "    <tr>\n",
       "      <th>3</th>\n",
       "      <td>4</td>\n",
       "      <td>Chhattisgarh</td>\n",
       "      <td>0.0</td>\n",
       "      <td>1.0</td>\n",
       "      <td>0.0</td>\n",
       "      <td>0.0</td>\n",
       "      <td>0.0</td>\n",
       "      <td>0.0</td>\n",
       "      <td>0.0</td>\n",
       "      <td>4.0</td>\n",
       "      <td>...</td>\n",
       "      <td>0.0</td>\n",
       "      <td>15.0</td>\n",
       "      <td>0.0</td>\n",
       "      <td>0.0</td>\n",
       "      <td>0.0</td>\n",
       "      <td>0.0</td>\n",
       "      <td>0.0</td>\n",
       "      <td>0.0</td>\n",
       "      <td>0.0</td>\n",
       "      <td>44.0</td>\n",
       "    </tr>\n",
       "    <tr>\n",
       "      <th>4</th>\n",
       "      <td>5</td>\n",
       "      <td>Gujarat</td>\n",
       "      <td>0.0</td>\n",
       "      <td>4.0</td>\n",
       "      <td>0.0</td>\n",
       "      <td>0.0</td>\n",
       "      <td>1.0</td>\n",
       "      <td>0.0</td>\n",
       "      <td>0.0</td>\n",
       "      <td>3.0</td>\n",
       "      <td>...</td>\n",
       "      <td>0.0</td>\n",
       "      <td>64.0</td>\n",
       "      <td>0.0</td>\n",
       "      <td>0.0</td>\n",
       "      <td>0.0</td>\n",
       "      <td>7.0</td>\n",
       "      <td>0.0</td>\n",
       "      <td>1213.0</td>\n",
       "      <td>1.0</td>\n",
       "      <td>4655.0</td>\n",
       "    </tr>\n",
       "  </tbody>\n",
       "</table>\n",
       "<p>5 rows × 36 columns</p>\n",
       "</div>"
      ],
      "text/plain": [
       "  S. No        State/UT  \\\n",
       "0     1  Andhra Pradesh   \n",
       "1     2           Assam   \n",
       "2     3           Bihar   \n",
       "3     4    Chhattisgarh   \n",
       "4     5         Gujarat   \n",
       "\n",
       "   Women - Acts - The Immoral Traffic (Prevention) Act, 1956  \\\n",
       "0                                                0.0           \n",
       "1                                                0.0           \n",
       "2                                                1.0           \n",
       "3                                                0.0           \n",
       "4                                                0.0           \n",
       "\n",
       "   Children Related - Acts - The Protection of Children from Sexual Offences Act, 2012  \\\n",
       "0                                                1.0                                     \n",
       "1                                                0.0                                     \n",
       "2                                                8.0                                     \n",
       "3                                                1.0                                     \n",
       "4                                                4.0                                     \n",
       "\n",
       "   Children Related - Acts - The Juvenile Justice Act, 2000  \\\n",
       "0                                                0.0          \n",
       "1                                                0.0          \n",
       "2                                               62.0          \n",
       "3                                                0.0          \n",
       "4                                                0.0          \n",
       "\n",
       "   Children Related - Acts - The Child Labour Act  \\\n",
       "0                                             0.0   \n",
       "1                                             0.0   \n",
       "2                                             1.0   \n",
       "3                                             0.0   \n",
       "4                                             0.0   \n",
       "\n",
       "   SCs & STs - Related Acts - The SC/ST Prevention of Atrocities Act, 1989/ 2015 against SCs  \\\n",
       "0                                                1.0                                           \n",
       "1                                                0.0                                           \n",
       "2                                                1.0                                           \n",
       "3                                                0.0                                           \n",
       "4                                                1.0                                           \n",
       "\n",
       "   SCs & STs - Related Acts - The SC/ST Prevention of Atrocities Act, 1989/ 2015 against STs  \\\n",
       "0                                                0.0                                           \n",
       "1                                                0.0                                           \n",
       "2                                                0.0                                           \n",
       "3                                                0.0                                           \n",
       "4                                                0.0                                           \n",
       "\n",
       "   Offences against State - Related Acts - The Prevention of Damage to Public Property Act1, 1984  \\\n",
       "0                                                0.0                                                \n",
       "1                                                0.0                                                \n",
       "2                                                0.0                                                \n",
       "3                                                0.0                                                \n",
       "4                                                0.0                                                \n",
       "\n",
       "   Arms/Explosive - Related Acts - The Arms Act, 1959  ...  \\\n",
       "0                                                0.0   ...   \n",
       "1                                                2.0   ...   \n",
       "2                                               33.0   ...   \n",
       "3                                                4.0   ...   \n",
       "4                                                3.0   ...   \n",
       "\n",
       "   Other Regulatory & Enforcement - Acts - The Essential Commodities Act, 1955  \\\n",
       "0                                                0.0                             \n",
       "1                                                0.0                             \n",
       "2                                                0.0                             \n",
       "3                                                0.0                             \n",
       "4                                                0.0                             \n",
       "\n",
       "   Other Regulatory & Enforcement - Acts - The Gambling Act  \\\n",
       "0                                                0.0          \n",
       "1                                                0.0          \n",
       "2                                                1.0          \n",
       "3                                               15.0          \n",
       "4                                               64.0          \n",
       "\n",
       "   Other Regulatory & Enforcement - Acts - The Bonded Labour System Act, 1976  \\\n",
       "0                                                0.0                            \n",
       "1                                                0.0                            \n",
       "2                                                0.0                            \n",
       "3                                                0.0                            \n",
       "4                                                0.0                            \n",
       "\n",
       "   Other Regulatory & Enforcement - Acts - The Bonded Labour System Act, 1976.1  \\\n",
       "0                                                1.0                              \n",
       "1                                                0.0                              \n",
       "2                                                0.0                              \n",
       "3                                                0.0                              \n",
       "4                                                0.0                              \n",
       "\n",
       "   Other Regulatory & Enforcement - Acts - Defacement of Public Property Acts (State/ Central)  \\\n",
       "0                                                0.0                                             \n",
       "1                                                0.0                                             \n",
       "2                                                0.0                                             \n",
       "3                                                0.0                                             \n",
       "4                                                0.0                                             \n",
       "\n",
       "   Other Regulatory & Enforcement - Acts - Motor Vehicle Act  \\\n",
       "0                                                0.0           \n",
       "1                                                0.0           \n",
       "2                                                0.0           \n",
       "3                                                0.0           \n",
       "4                                                7.0           \n",
       "\n",
       "   Other Regulatory & Enforcement - Acts - City/Town Police Acts  \\\n",
       "0                                                0.0               \n",
       "1                                                0.0               \n",
       "2                                                0.0               \n",
       "3                                                0.0               \n",
       "4                                                0.0               \n",
       "\n",
       "   Other Regulatory & Enforcement - Acts - Other State Local Acts  \\\n",
       "0                                                0.0                \n",
       "1                                                0.0                \n",
       "2                                                0.0                \n",
       "3                                                0.0                \n",
       "4                                             1213.0                \n",
       "\n",
       "   Other SLL Crimes  Total Cognizable SLL Crimes  \n",
       "0               1.0                         40.0  \n",
       "1               1.0                         67.0  \n",
       "2               0.0                       2662.0  \n",
       "3               0.0                         44.0  \n",
       "4               1.0                       4655.0  \n",
       "\n",
       "[5 rows x 36 columns]"
      ]
     },
     "execution_count": 3,
     "metadata": {},
     "output_type": "execute_result"
    }
   ],
   "source": [
    "df.head(5)"
   ]
  },
  {
   "cell_type": "code",
   "execution_count": 4,
   "metadata": {},
   "outputs": [
    {
     "data": {
      "text/html": [
       "<div>\n",
       "<style scoped>\n",
       "    .dataframe tbody tr th:only-of-type {\n",
       "        vertical-align: middle;\n",
       "    }\n",
       "\n",
       "    .dataframe tbody tr th {\n",
       "        vertical-align: top;\n",
       "    }\n",
       "\n",
       "    .dataframe thead th {\n",
       "        text-align: right;\n",
       "    }\n",
       "</style>\n",
       "<table border=\"1\" class=\"dataframe\">\n",
       "  <thead>\n",
       "    <tr style=\"text-align: right;\">\n",
       "      <th></th>\n",
       "      <th>S. No</th>\n",
       "      <th>State/UT</th>\n",
       "      <th>Women - Acts - The Immoral Traffic (Prevention) Act, 1956</th>\n",
       "      <th>Children Related - Acts - The Protection of Children from Sexual Offences Act, 2012</th>\n",
       "      <th>Children Related - Acts - The Juvenile Justice Act, 2000</th>\n",
       "      <th>Children Related - Acts - The Child Labour Act</th>\n",
       "      <th>SCs &amp; STs - Related Acts - The SC/ST Prevention of Atrocities Act, 1989/ 2015 against SCs</th>\n",
       "      <th>SCs &amp; STs - Related Acts - The SC/ST Prevention of Atrocities Act, 1989/ 2015 against STs</th>\n",
       "      <th>Offences against State - Related Acts - The Prevention of Damage to Public Property Act1, 1984</th>\n",
       "      <th>Arms/Explosive - Related Acts - The Arms Act, 1959</th>\n",
       "      <th>...</th>\n",
       "      <th>Other Regulatory &amp; Enforcement - Acts - The Essential Commodities Act, 1955</th>\n",
       "      <th>Other Regulatory &amp; Enforcement - Acts - The Gambling Act</th>\n",
       "      <th>Other Regulatory &amp; Enforcement - Acts - The Bonded Labour System Act, 1976</th>\n",
       "      <th>Other Regulatory &amp; Enforcement - Acts - The Bonded Labour System Act, 1976.1</th>\n",
       "      <th>Other Regulatory &amp; Enforcement - Acts - Defacement of Public Property Acts (State/ Central)</th>\n",
       "      <th>Other Regulatory &amp; Enforcement - Acts - Motor Vehicle Act</th>\n",
       "      <th>Other Regulatory &amp; Enforcement - Acts - City/Town Police Acts</th>\n",
       "      <th>Other Regulatory &amp; Enforcement - Acts - Other State Local Acts</th>\n",
       "      <th>Other SLL Crimes</th>\n",
       "      <th>Total Cognizable SLL Crimes</th>\n",
       "    </tr>\n",
       "  </thead>\n",
       "  <tbody>\n",
       "    <tr>\n",
       "      <th>21</th>\n",
       "      <td>22</td>\n",
       "      <td>West Bengal</td>\n",
       "      <td>0.0</td>\n",
       "      <td>7.0</td>\n",
       "      <td>0.0</td>\n",
       "      <td>0.0</td>\n",
       "      <td>0.0</td>\n",
       "      <td>0.0</td>\n",
       "      <td>2.0</td>\n",
       "      <td>15.0</td>\n",
       "      <td>...</td>\n",
       "      <td>0.0</td>\n",
       "      <td>1.0</td>\n",
       "      <td>0.0</td>\n",
       "      <td>0.0</td>\n",
       "      <td>0.0</td>\n",
       "      <td>0.0</td>\n",
       "      <td>0.0</td>\n",
       "      <td>0.0</td>\n",
       "      <td>2.0</td>\n",
       "      <td>212.0</td>\n",
       "    </tr>\n",
       "    <tr>\n",
       "      <th>22</th>\n",
       "      <td>23</td>\n",
       "      <td>Delhi</td>\n",
       "      <td>0.0</td>\n",
       "      <td>4.0</td>\n",
       "      <td>0.0</td>\n",
       "      <td>0.0</td>\n",
       "      <td>0.0</td>\n",
       "      <td>0.0</td>\n",
       "      <td>0.0</td>\n",
       "      <td>7.0</td>\n",
       "      <td>...</td>\n",
       "      <td>0.0</td>\n",
       "      <td>0.0</td>\n",
       "      <td>0.0</td>\n",
       "      <td>0.0</td>\n",
       "      <td>0.0</td>\n",
       "      <td>0.0</td>\n",
       "      <td>0.0</td>\n",
       "      <td>0.0</td>\n",
       "      <td>16.0</td>\n",
       "      <td>40.0</td>\n",
       "    </tr>\n",
       "    <tr>\n",
       "      <th>23</th>\n",
       "      <td>Total All India</td>\n",
       "      <td>Total All India</td>\n",
       "      <td>1.0</td>\n",
       "      <td>89.0</td>\n",
       "      <td>95.0</td>\n",
       "      <td>2.0</td>\n",
       "      <td>11.0</td>\n",
       "      <td>3.0</td>\n",
       "      <td>7.0</td>\n",
       "      <td>1735.0</td>\n",
       "      <td>...</td>\n",
       "      <td>0.0</td>\n",
       "      <td>560.0</td>\n",
       "      <td>1.0</td>\n",
       "      <td>1.0</td>\n",
       "      <td>102.0</td>\n",
       "      <td>57.0</td>\n",
       "      <td>145.0</td>\n",
       "      <td>2208.0</td>\n",
       "      <td>1039.0</td>\n",
       "      <td>15910.0</td>\n",
       "    </tr>\n",
       "    <tr>\n",
       "      <th>24</th>\n",
       "      <td>NaN</td>\n",
       "      <td>NaN</td>\n",
       "      <td>NaN</td>\n",
       "      <td>NaN</td>\n",
       "      <td>NaN</td>\n",
       "      <td>NaN</td>\n",
       "      <td>NaN</td>\n",
       "      <td>NaN</td>\n",
       "      <td>NaN</td>\n",
       "      <td>NaN</td>\n",
       "      <td>...</td>\n",
       "      <td>NaN</td>\n",
       "      <td>NaN</td>\n",
       "      <td>NaN</td>\n",
       "      <td>NaN</td>\n",
       "      <td>NaN</td>\n",
       "      <td>NaN</td>\n",
       "      <td>NaN</td>\n",
       "      <td>NaN</td>\n",
       "      <td>NaN</td>\n",
       "      <td>NaN</td>\n",
       "    </tr>\n",
       "    <tr>\n",
       "      <th>25</th>\n",
       "      <td>NaN</td>\n",
       "      <td>NaN</td>\n",
       "      <td>NaN</td>\n",
       "      <td>NaN</td>\n",
       "      <td>NaN</td>\n",
       "      <td>NaN</td>\n",
       "      <td>NaN</td>\n",
       "      <td>NaN</td>\n",
       "      <td>NaN</td>\n",
       "      <td>NaN</td>\n",
       "      <td>...</td>\n",
       "      <td>NaN</td>\n",
       "      <td>NaN</td>\n",
       "      <td>NaN</td>\n",
       "      <td>NaN</td>\n",
       "      <td>NaN</td>\n",
       "      <td>NaN</td>\n",
       "      <td>NaN</td>\n",
       "      <td>NaN</td>\n",
       "      <td>NaN</td>\n",
       "      <td>NaN</td>\n",
       "    </tr>\n",
       "  </tbody>\n",
       "</table>\n",
       "<p>5 rows × 36 columns</p>\n",
       "</div>"
      ],
      "text/plain": [
       "              S. No         State/UT  \\\n",
       "21               22      West Bengal   \n",
       "22               23            Delhi   \n",
       "23  Total All India  Total All India   \n",
       "24              NaN              NaN   \n",
       "25              NaN              NaN   \n",
       "\n",
       "    Women - Acts - The Immoral Traffic (Prevention) Act, 1956  \\\n",
       "21                                                0.0           \n",
       "22                                                0.0           \n",
       "23                                                1.0           \n",
       "24                                                NaN           \n",
       "25                                                NaN           \n",
       "\n",
       "    Children Related - Acts - The Protection of Children from Sexual Offences Act, 2012  \\\n",
       "21                                                7.0                                     \n",
       "22                                                4.0                                     \n",
       "23                                               89.0                                     \n",
       "24                                                NaN                                     \n",
       "25                                                NaN                                     \n",
       "\n",
       "    Children Related - Acts - The Juvenile Justice Act, 2000  \\\n",
       "21                                                0.0          \n",
       "22                                                0.0          \n",
       "23                                               95.0          \n",
       "24                                                NaN          \n",
       "25                                                NaN          \n",
       "\n",
       "    Children Related - Acts - The Child Labour Act  \\\n",
       "21                                             0.0   \n",
       "22                                             0.0   \n",
       "23                                             2.0   \n",
       "24                                             NaN   \n",
       "25                                             NaN   \n",
       "\n",
       "    SCs & STs - Related Acts - The SC/ST Prevention of Atrocities Act, 1989/ 2015 against SCs  \\\n",
       "21                                                0.0                                           \n",
       "22                                                0.0                                           \n",
       "23                                               11.0                                           \n",
       "24                                                NaN                                           \n",
       "25                                                NaN                                           \n",
       "\n",
       "    SCs & STs - Related Acts - The SC/ST Prevention of Atrocities Act, 1989/ 2015 against STs  \\\n",
       "21                                                0.0                                           \n",
       "22                                                0.0                                           \n",
       "23                                                3.0                                           \n",
       "24                                                NaN                                           \n",
       "25                                                NaN                                           \n",
       "\n",
       "    Offences against State - Related Acts - The Prevention of Damage to Public Property Act1, 1984  \\\n",
       "21                                                2.0                                                \n",
       "22                                                0.0                                                \n",
       "23                                                7.0                                                \n",
       "24                                                NaN                                                \n",
       "25                                                NaN                                                \n",
       "\n",
       "    Arms/Explosive - Related Acts - The Arms Act, 1959  ...  \\\n",
       "21                                               15.0   ...   \n",
       "22                                                7.0   ...   \n",
       "23                                             1735.0   ...   \n",
       "24                                                NaN   ...   \n",
       "25                                                NaN   ...   \n",
       "\n",
       "    Other Regulatory & Enforcement - Acts - The Essential Commodities Act, 1955  \\\n",
       "21                                                0.0                             \n",
       "22                                                0.0                             \n",
       "23                                                0.0                             \n",
       "24                                                NaN                             \n",
       "25                                                NaN                             \n",
       "\n",
       "    Other Regulatory & Enforcement - Acts - The Gambling Act  \\\n",
       "21                                                1.0          \n",
       "22                                                0.0          \n",
       "23                                              560.0          \n",
       "24                                                NaN          \n",
       "25                                                NaN          \n",
       "\n",
       "    Other Regulatory & Enforcement - Acts - The Bonded Labour System Act, 1976  \\\n",
       "21                                                0.0                            \n",
       "22                                                0.0                            \n",
       "23                                                1.0                            \n",
       "24                                                NaN                            \n",
       "25                                                NaN                            \n",
       "\n",
       "    Other Regulatory & Enforcement - Acts - The Bonded Labour System Act, 1976.1  \\\n",
       "21                                                0.0                              \n",
       "22                                                0.0                              \n",
       "23                                                1.0                              \n",
       "24                                                NaN                              \n",
       "25                                                NaN                              \n",
       "\n",
       "    Other Regulatory & Enforcement - Acts - Defacement of Public Property Acts (State/ Central)  \\\n",
       "21                                                0.0                                             \n",
       "22                                                0.0                                             \n",
       "23                                              102.0                                             \n",
       "24                                                NaN                                             \n",
       "25                                                NaN                                             \n",
       "\n",
       "    Other Regulatory & Enforcement - Acts - Motor Vehicle Act  \\\n",
       "21                                                0.0           \n",
       "22                                                0.0           \n",
       "23                                               57.0           \n",
       "24                                                NaN           \n",
       "25                                                NaN           \n",
       "\n",
       "    Other Regulatory & Enforcement - Acts - City/Town Police Acts  \\\n",
       "21                                                0.0               \n",
       "22                                                0.0               \n",
       "23                                              145.0               \n",
       "24                                                NaN               \n",
       "25                                                NaN               \n",
       "\n",
       "    Other Regulatory & Enforcement - Acts - Other State Local Acts  \\\n",
       "21                                                0.0                \n",
       "22                                                0.0                \n",
       "23                                             2208.0                \n",
       "24                                                NaN                \n",
       "25                                                NaN                \n",
       "\n",
       "    Other SLL Crimes  Total Cognizable SLL Crimes  \n",
       "21               2.0                        212.0  \n",
       "22              16.0                         40.0  \n",
       "23            1039.0                      15910.0  \n",
       "24               NaN                          NaN  \n",
       "25               NaN                          NaN  \n",
       "\n",
       "[5 rows x 36 columns]"
      ]
     },
     "execution_count": 4,
     "metadata": {},
     "output_type": "execute_result"
    }
   ],
   "source": [
    "df.tail()"
   ]
  },
  {
   "cell_type": "code",
   "execution_count": 5,
   "metadata": {},
   "outputs": [],
   "source": [
    "df=df.drop(23,axis=0)"
   ]
  },
  {
   "cell_type": "code",
   "execution_count": 6,
   "metadata": {},
   "outputs": [
    {
     "data": {
      "text/plain": [
       "(25, 36)"
      ]
     },
     "execution_count": 6,
     "metadata": {},
     "output_type": "execute_result"
    }
   ],
   "source": [
    "df.shape"
   ]
  },
  {
   "cell_type": "code",
   "execution_count": 7,
   "metadata": {
    "scrolled": true
   },
   "outputs": [
    {
     "data": {
      "text/plain": [
       "S. No                                                                                                           2\n",
       "State/UT                                                                                                        2\n",
       "Women - Acts - The Immoral Traffic (Prevention) Act, 1956                                                       2\n",
       "Children Related - Acts - The Protection of Children from Sexual Offences Act, 2012                             2\n",
       "Children Related - Acts - The Juvenile Justice Act, 2000                                                        2\n",
       "Children Related - Acts - The Child Labour Act                                                                  2\n",
       "SCs & STs - Related Acts - The SC/ST Prevention of Atrocities Act, 1989/ 2015 against SCs                       2\n",
       "SCs & STs - Related Acts - The SC/ST Prevention of Atrocities Act, 1989/ 2015 against STs                       2\n",
       "Offences against State - Related Acts - The Prevention of Damage to Public Property Act1, 1984                  2\n",
       "Arms/Explosive - Related Acts - The Arms Act, 1959                                                              2\n",
       "Arms/Explosive - Related Acts - The Explosives Act, 1884                                                        2\n",
       "Arms/Explosive - Related Acts - The Explosive Substances Act, 1884 & 1908                                       2\n",
       "IT/Intellectual Property - Related Acts - The Information Technology Act, 2000                                  2\n",
       "IT/Intellectual Property - Related Acts - The Copy Right Act, 1957                                              2\n",
       "IT/Intellectual Property - Related Acts - The Trade Marks Act, 1999                                             2\n",
       "Economic Acts - Prevention of Corruption Act                                                                    2\n",
       "Liquor & Narcotic Drugs - Related Acts - Prohibition Act (State)                                                2\n",
       "Liquor & Narcotic Drugs - Related Acts - The Excise Act, 1944                                                   2\n",
       "Liquor & Narcotic Drugs - Related Acts - The Narcotic Drugs and Psychotropic Substances Act, 1985               2\n",
       "Environment & Pollution - Related Acts - The Wildlife Protection Act, 1972                                      2\n",
       "Environment & Pollution - Related Acts - The Cigarette and Other Tobacco Products Act, 2003                     2\n",
       "Foreigners & Passport - Related Acts - The Registration of Foreigners Act, 1939 and The Foreigners Act, 1946    2\n",
       "Foreigners & Passport - Related Acts - The Passport Act, 1967                                                   2\n",
       "Railways - Related Acts - The Indian Railways Act, 1989                                                         2\n",
       "Railways - Related Acts - The Railway Property Unlawful Possession Act, 1966                                    2\n",
       "Other Regulatory & Enforcement - Acts - The Indian Telegraph Act, 1988                                          2\n",
       "Other Regulatory & Enforcement - Acts - The Essential Commodities Act, 1955                                     2\n",
       "Other Regulatory & Enforcement - Acts - The Gambling Act                                                        2\n",
       "Other Regulatory & Enforcement - Acts - The Bonded Labour System Act, 1976                                      2\n",
       "Other Regulatory & Enforcement - Acts - The Bonded Labour System Act, 1976.1                                    2\n",
       "Other Regulatory & Enforcement - Acts - Defacement of Public Property Acts (State/ Central)                     2\n",
       "Other Regulatory & Enforcement - Acts - Motor Vehicle Act                                                       2\n",
       "Other Regulatory & Enforcement - Acts - City/Town Police Acts                                                   2\n",
       "Other Regulatory & Enforcement - Acts - Other State Local Acts                                                  2\n",
       "Other SLL Crimes                                                                                                2\n",
       "Total Cognizable SLL Crimes                                                                                     2\n",
       "dtype: int64"
      ]
     },
     "execution_count": 7,
     "metadata": {},
     "output_type": "execute_result"
    }
   ],
   "source": [
    "df.isnull().sum()"
   ]
  },
  {
   "cell_type": "code",
   "execution_count": 13,
   "metadata": {},
   "outputs": [],
   "source": [
    "df.dropna(inplace=True)"
   ]
  },
  {
   "cell_type": "code",
   "execution_count": 14,
   "metadata": {},
   "outputs": [
    {
     "data": {
      "text/plain": [
       "(23, 36)"
      ]
     },
     "execution_count": 14,
     "metadata": {},
     "output_type": "execute_result"
    }
   ],
   "source": [
    "df.shape"
   ]
  },
  {
   "cell_type": "code",
   "execution_count": 15,
   "metadata": {
    "scrolled": true
   },
   "outputs": [
    {
     "data": {
      "text/plain": [
       "['S. No',\n",
       " 'State/UT',\n",
       " 'Women - Acts - The Immoral Traffic (Prevention) Act, 1956',\n",
       " 'Children Related - Acts - The Protection of Children from Sexual Offences Act, 2012',\n",
       " 'Children Related - Acts - The Juvenile Justice Act, 2000',\n",
       " 'Children Related - Acts - The Child Labour Act',\n",
       " 'SCs & STs - Related Acts - The SC/ST Prevention of Atrocities Act, 1989/ 2015 against SCs',\n",
       " 'SCs & STs - Related Acts - The SC/ST Prevention of Atrocities Act, 1989/ 2015 against STs',\n",
       " 'Offences against State - Related Acts - The Prevention of Damage to Public Property Act1, 1984',\n",
       " 'Arms/Explosive - Related Acts - The Arms Act, 1959',\n",
       " 'Arms/Explosive - Related Acts - The Explosives Act, 1884',\n",
       " 'Arms/Explosive - Related Acts - The Explosive Substances Act, 1884 & 1908',\n",
       " 'IT/Intellectual Property - Related Acts - The Information Technology Act, 2000',\n",
       " 'IT/Intellectual Property - Related Acts - The Copy Right Act, 1957',\n",
       " 'IT/Intellectual Property - Related Acts - The Trade Marks Act, 1999',\n",
       " 'Economic Acts - Prevention of Corruption Act',\n",
       " 'Liquor & Narcotic Drugs - Related Acts - Prohibition Act (State)',\n",
       " 'Liquor & Narcotic Drugs - Related Acts - The Excise Act, 1944',\n",
       " 'Liquor & Narcotic Drugs - Related Acts - The Narcotic Drugs and Psychotropic Substances Act, 1985',\n",
       " 'Environment & Pollution - Related Acts - The Wildlife Protection Act, 1972',\n",
       " 'Environment & Pollution - Related Acts - The Cigarette and Other Tobacco Products Act, 2003',\n",
       " 'Foreigners & Passport - Related Acts - The Registration of Foreigners Act, 1939 and The Foreigners Act, 1946',\n",
       " 'Foreigners & Passport - Related Acts - The Passport Act, 1967',\n",
       " 'Railways - Related Acts - The Indian Railways Act, 1989',\n",
       " 'Railways - Related Acts - The Railway Property Unlawful Possession Act, 1966',\n",
       " 'Other Regulatory & Enforcement - Acts - The Indian Telegraph Act, 1988',\n",
       " 'Other Regulatory & Enforcement - Acts - The Essential Commodities Act, 1955',\n",
       " 'Other Regulatory & Enforcement - Acts - The Gambling Act',\n",
       " 'Other Regulatory & Enforcement - Acts - The Bonded Labour System Act, 1976',\n",
       " 'Other Regulatory & Enforcement - Acts - The Bonded Labour System Act, 1976.1',\n",
       " 'Other Regulatory & Enforcement - Acts - Defacement of Public Property Acts (State/ Central)',\n",
       " 'Other Regulatory & Enforcement - Acts - Motor Vehicle Act',\n",
       " 'Other Regulatory & Enforcement - Acts - City/Town Police Acts',\n",
       " 'Other Regulatory & Enforcement - Acts - Other State Local Acts',\n",
       " 'Other SLL Crimes',\n",
       " 'Total Cognizable SLL Crimes']"
      ]
     },
     "execution_count": 15,
     "metadata": {},
     "output_type": "execute_result"
    }
   ],
   "source": [
    "column_names=df.columns.to_list()\n",
    "column_names"
   ]
  },
  {
   "cell_type": "markdown",
   "metadata": {},
   "source": [
    "# Q1.To check which state has highest rate of 'Liquor & Narcotic Drugs - Related Acts - Prohibition Act (State)' crime "
   ]
  },
  {
   "cell_type": "markdown",
   "metadata": {},
   "source": [
    "Method 1"
   ]
  },
  {
   "cell_type": "code",
   "execution_count": 22,
   "metadata": {},
   "outputs": [],
   "source": [
    "t1=df['Liquor & Narcotic Drugs - Related Acts - Prohibition Act (State)']"
   ]
  },
  {
   "cell_type": "code",
   "execution_count": 28,
   "metadata": {},
   "outputs": [
    {
     "data": {
      "text/html": [
       "<div>\n",
       "<style scoped>\n",
       "    .dataframe tbody tr th:only-of-type {\n",
       "        vertical-align: middle;\n",
       "    }\n",
       "\n",
       "    .dataframe tbody tr th {\n",
       "        vertical-align: top;\n",
       "    }\n",
       "\n",
       "    .dataframe thead th {\n",
       "        text-align: right;\n",
       "    }\n",
       "</style>\n",
       "<table border=\"1\" class=\"dataframe\">\n",
       "  <thead>\n",
       "    <tr style=\"text-align: right;\">\n",
       "      <th></th>\n",
       "      <th>S. No</th>\n",
       "      <th>State/UT</th>\n",
       "      <th>Women - Acts - The Immoral Traffic (Prevention) Act, 1956</th>\n",
       "      <th>Children Related - Acts - The Protection of Children from Sexual Offences Act, 2012</th>\n",
       "      <th>Children Related - Acts - The Juvenile Justice Act, 2000</th>\n",
       "      <th>Children Related - Acts - The Child Labour Act</th>\n",
       "      <th>SCs &amp; STs - Related Acts - The SC/ST Prevention of Atrocities Act, 1989/ 2015 against SCs</th>\n",
       "      <th>SCs &amp; STs - Related Acts - The SC/ST Prevention of Atrocities Act, 1989/ 2015 against STs</th>\n",
       "      <th>Offences against State - Related Acts - The Prevention of Damage to Public Property Act1, 1984</th>\n",
       "      <th>Arms/Explosive - Related Acts - The Arms Act, 1959</th>\n",
       "      <th>...</th>\n",
       "      <th>Other Regulatory &amp; Enforcement - Acts - The Essential Commodities Act, 1955</th>\n",
       "      <th>Other Regulatory &amp; Enforcement - Acts - The Gambling Act</th>\n",
       "      <th>Other Regulatory &amp; Enforcement - Acts - The Bonded Labour System Act, 1976</th>\n",
       "      <th>Other Regulatory &amp; Enforcement - Acts - The Bonded Labour System Act, 1976.1</th>\n",
       "      <th>Other Regulatory &amp; Enforcement - Acts - Defacement of Public Property Acts (State/ Central)</th>\n",
       "      <th>Other Regulatory &amp; Enforcement - Acts - Motor Vehicle Act</th>\n",
       "      <th>Other Regulatory &amp; Enforcement - Acts - City/Town Police Acts</th>\n",
       "      <th>Other Regulatory &amp; Enforcement - Acts - Other State Local Acts</th>\n",
       "      <th>Other SLL Crimes</th>\n",
       "      <th>Total Cognizable SLL Crimes</th>\n",
       "    </tr>\n",
       "  </thead>\n",
       "  <tbody>\n",
       "    <tr>\n",
       "      <th>4</th>\n",
       "      <td>5</td>\n",
       "      <td>Gujarat</td>\n",
       "      <td>0.0</td>\n",
       "      <td>4.0</td>\n",
       "      <td>0.0</td>\n",
       "      <td>0.0</td>\n",
       "      <td>1.0</td>\n",
       "      <td>0.0</td>\n",
       "      <td>0.0</td>\n",
       "      <td>3.0</td>\n",
       "      <td>...</td>\n",
       "      <td>0.0</td>\n",
       "      <td>64.0</td>\n",
       "      <td>0.0</td>\n",
       "      <td>0.0</td>\n",
       "      <td>0.0</td>\n",
       "      <td>7.0</td>\n",
       "      <td>0.0</td>\n",
       "      <td>1213.0</td>\n",
       "      <td>1.0</td>\n",
       "      <td>4655.0</td>\n",
       "    </tr>\n",
       "  </tbody>\n",
       "</table>\n",
       "<p>1 rows × 36 columns</p>\n",
       "</div>"
      ],
      "text/plain": [
       "  S. No State/UT  Women - Acts - The Immoral Traffic (Prevention) Act, 1956  \\\n",
       "4     5  Gujarat                                                0.0           \n",
       "\n",
       "   Children Related - Acts - The Protection of Children from Sexual Offences Act, 2012  \\\n",
       "4                                                4.0                                     \n",
       "\n",
       "   Children Related - Acts - The Juvenile Justice Act, 2000  \\\n",
       "4                                                0.0          \n",
       "\n",
       "   Children Related - Acts - The Child Labour Act  \\\n",
       "4                                             0.0   \n",
       "\n",
       "   SCs & STs - Related Acts - The SC/ST Prevention of Atrocities Act, 1989/ 2015 against SCs  \\\n",
       "4                                                1.0                                           \n",
       "\n",
       "   SCs & STs - Related Acts - The SC/ST Prevention of Atrocities Act, 1989/ 2015 against STs  \\\n",
       "4                                                0.0                                           \n",
       "\n",
       "   Offences against State - Related Acts - The Prevention of Damage to Public Property Act1, 1984  \\\n",
       "4                                                0.0                                                \n",
       "\n",
       "   Arms/Explosive - Related Acts - The Arms Act, 1959  ...  \\\n",
       "4                                                3.0   ...   \n",
       "\n",
       "   Other Regulatory & Enforcement - Acts - The Essential Commodities Act, 1955  \\\n",
       "4                                                0.0                             \n",
       "\n",
       "   Other Regulatory & Enforcement - Acts - The Gambling Act  \\\n",
       "4                                               64.0          \n",
       "\n",
       "   Other Regulatory & Enforcement - Acts - The Bonded Labour System Act, 1976  \\\n",
       "4                                                0.0                            \n",
       "\n",
       "   Other Regulatory & Enforcement - Acts - The Bonded Labour System Act, 1976.1  \\\n",
       "4                                                0.0                              \n",
       "\n",
       "   Other Regulatory & Enforcement - Acts - Defacement of Public Property Acts (State/ Central)  \\\n",
       "4                                                0.0                                             \n",
       "\n",
       "   Other Regulatory & Enforcement - Acts - Motor Vehicle Act  \\\n",
       "4                                                7.0           \n",
       "\n",
       "   Other Regulatory & Enforcement - Acts - City/Town Police Acts  \\\n",
       "4                                                0.0               \n",
       "\n",
       "   Other Regulatory & Enforcement - Acts - Other State Local Acts  \\\n",
       "4                                             1213.0                \n",
       "\n",
       "   Other SLL Crimes  Total Cognizable SLL Crimes  \n",
       "4               1.0                       4655.0  \n",
       "\n",
       "[1 rows x 36 columns]"
      ]
     },
     "execution_count": 28,
     "metadata": {},
     "output_type": "execute_result"
    }
   ],
   "source": [
    "df[t1 == t1.max()] "
   ]
  },
  {
   "cell_type": "markdown",
   "metadata": {},
   "source": [
    "Method 2 Using Graph"
   ]
  },
  {
   "cell_type": "code",
   "execution_count": 37,
   "metadata": {},
   "outputs": [
    {
     "data": {
      "text/plain": [
       "<matplotlib.axes._subplots.AxesSubplot at 0x25a77378688>"
      ]
     },
     "execution_count": 37,
     "metadata": {},
     "output_type": "execute_result"
    },
    {
     "data": {
      "image/png": "[encoded data removed]",
      "text/plain": [
       "<Figure size 432x288 with 1 Axes>"
      ]
     },
     "metadata": {
      "needs_background": "light"
     },
     "output_type": "display_data"
    }
   ],
   "source": [
    "df['Liquor & Narcotic Drugs - Related Acts - Prohibition Act (State)'].plot(kind='bar')"
   ]
  },
  {
   "cell_type": "markdown",
   "metadata": {},
   "source": [
    "Plot manually"
   ]
  },
  {
   "cell_type": "code",
   "execution_count": 47,
   "metadata": {},
   "outputs": [],
   "source": [
    "x_data=df['State/UT'] # State Names\n",
    "y_data=df['Liquor & Narcotic Drugs - Related Acts - Prohibition Act (State)']"
   ]
  },
  {
   "cell_type": "code",
   "execution_count": 61,
   "metadata": {},
   "outputs": [
    {
     "data": {
      "image/png": "[encoded data removed]",
      "text/plain": [
       "<Figure size 504x504 with 1 Axes>"
      ]
     },
     "metadata": {
      "needs_background": "light"
     },
     "output_type": "display_data"
    }
   ],
   "source": [
    "plt.figure(figsize=(7,7))\n",
    "plt.bar(x_data,y_data)\n",
    "plt.xticks(rotation=90)\n",
    "plt.xlabel('State name')\n",
    "plt.ylabel('Crime rate liquor and narcotic rate')\n",
    "plt.show()\n"
   ]
  },
  {
   "cell_type": "markdown",
   "metadata": {},
   "source": [
    "# Q2. Just Testing new features"
   ]
  },
  {
   "cell_type": "code",
   "execution_count": 179,
   "metadata": {},
   "outputs": [
    {
     "data": {
      "text/plain": [
       "36"
      ]
     },
     "execution_count": 179,
     "metadata": {},
     "output_type": "execute_result"
    }
   ],
   "source": [
    "t1=list(df.loc[0].values)\n",
    "length=len(t1)\n",
    "length"
   ]
  },
  {
   "cell_type": "code",
   "execution_count": 191,
   "metadata": {},
   "outputs": [
    {
     "data": {
      "text/plain": [
       "[0.0,\n",
       " 1.0,\n",
       " 0.0,\n",
       " 0.0,\n",
       " 1.0,\n",
       " 0.0,\n",
       " 0.0,\n",
       " 0.0,\n",
       " 0.0,\n",
       " 0.0,\n",
       " 0.0,\n",
       " 0.0,\n",
       " 0.0,\n",
       " 0.0,\n",
       " 0.0,\n",
       " 0.0,\n",
       " 35.0,\n",
       " 0.0,\n",
       " 0.0,\n",
       " 0.0,\n",
       " 0.0,\n",
       " 1.0,\n",
       " 0.0,\n",
       " 0.0,\n",
       " 0.0,\n",
       " 0.0,\n",
       " 0.0,\n",
       " 1.0,\n",
       " 0.0,\n",
       " 0.0,\n",
       " 0.0,\n",
       " 0.0,\n",
       " 1.0]"
      ]
     },
     "execution_count": 191,
     "metadata": {},
     "output_type": "execute_result"
    }
   ],
   "source": [
    "testing=t1[2:length-1]\n",
    "testing"
   ]
  },
  {
   "cell_type": "code",
   "execution_count": 192,
   "metadata": {},
   "outputs": [],
   "source": [
    "sum=lambda a,b:a+b"
   ]
  },
  {
   "cell_type": "code",
   "execution_count": 194,
   "metadata": {},
   "outputs": [
    {
     "data": {
      "text/plain": [
       "40.0"
      ]
     },
     "execution_count": 194,
     "metadata": {},
     "output_type": "execute_result"
    }
   ],
   "source": [
    "ft.reduce(sum,testing)"
   ]
  },
  {
   "cell_type": "markdown",
   "metadata": {},
   "source": [
    "# Q2. Which state has 'Children Related - Acts - The Child Labour Act' && Other Regulatory & Enforcement - Acts - The Gambling Act'"
   ]
  },
  {
   "cell_type": "code",
   "execution_count": 205,
   "metadata": {},
   "outputs": [
    {
     "data": {
      "text/html": [
       "<div>\n",
       "<style scoped>\n",
       "    .dataframe tbody tr th:only-of-type {\n",
       "        vertical-align: middle;\n",
       "    }\n",
       "\n",
       "    .dataframe tbody tr th {\n",
       "        vertical-align: top;\n",
       "    }\n",
       "\n",
       "    .dataframe thead th {\n",
       "        text-align: right;\n",
       "    }\n",
       "</style>\n",
       "<table border=\"1\" class=\"dataframe\">\n",
       "  <thead>\n",
       "    <tr style=\"text-align: right;\">\n",
       "      <th></th>\n",
       "      <th>State/UT</th>\n",
       "      <th>Children Related - Acts - The Child Labour Act</th>\n",
       "      <th>Children Related - Acts - The Child Labour Act</th>\n",
       "    </tr>\n",
       "  </thead>\n",
       "  <tbody>\n",
       "    <tr>\n",
       "      <th>0</th>\n",
       "      <td>Andhra Pradesh</td>\n",
       "      <td>0.0</td>\n",
       "      <td>0.0</td>\n",
       "    </tr>\n",
       "    <tr>\n",
       "      <th>1</th>\n",
       "      <td>Assam</td>\n",
       "      <td>0.0</td>\n",
       "      <td>0.0</td>\n",
       "    </tr>\n",
       "    <tr>\n",
       "      <th>2</th>\n",
       "      <td>Bihar</td>\n",
       "      <td>1.0</td>\n",
       "      <td>1.0</td>\n",
       "    </tr>\n",
       "    <tr>\n",
       "      <th>3</th>\n",
       "      <td>Chhattisgarh</td>\n",
       "      <td>0.0</td>\n",
       "      <td>0.0</td>\n",
       "    </tr>\n",
       "  </tbody>\n",
       "</table>\n",
       "</div>"
      ],
      "text/plain": [
       "         State/UT  Children Related - Acts - The Child Labour Act  \\\n",
       "0  Andhra Pradesh                                             0.0   \n",
       "1           Assam                                             0.0   \n",
       "2           Bihar                                             1.0   \n",
       "3    Chhattisgarh                                             0.0   \n",
       "\n",
       "   Children Related - Acts - The Child Labour Act  \n",
       "0                                             0.0  \n",
       "1                                             0.0  \n",
       "2                                             1.0  \n",
       "3                                             0.0  "
      ]
     },
     "execution_count": 205,
     "metadata": {},
     "output_type": "execute_result"
    }
   ],
   "source": [
    "df_child=df[['State/UT','Children Related - Acts - The Child Labour Act','Children Related - Acts - The Child Labour Act']]\n",
    "df_child.head(4)"
   ]
  },
  {
   "cell_type": "code",
   "execution_count": 223,
   "metadata": {},
   "outputs": [],
   "source": [
    "df_child.set_index('State/UT',inplace=True)"
   ]
  },
  {
   "cell_type": "code",
   "execution_count": 224,
   "metadata": {},
   "outputs": [
    {
     "data": {
      "text/plain": [
       "<matplotlib.axes._subplots.AxesSubplot at 0x25a7e651bc8>"
      ]
     },
     "execution_count": 224,
     "metadata": {},
     "output_type": "execute_result"
    },
    {
     "data": {
      "image/png": "[encoded data removed]",
      "text/plain": [
       "<Figure size 432x288 with 1 Axes>"
      ]
     },
     "metadata": {
      "needs_background": "light"
     },
     "output_type": "display_data"
    }
   ],
   "source": [
    "df_child.plot(kind='bar')"
   ]
  },
  {
   "cell_type": "raw",
   "metadata": {},
   "source": []
  },
  {
   "cell_type": "code",
   "execution_count": null,
   "metadata": {},
   "outputs": [],
   "source": []
  },
  {
   "cell_type": "code",
   "execution_count": null,
   "metadata": {},
   "outputs": [],
   "source": []
  }
 ],
 "metadata": {
  "kernelspec": {
   "display_name": "Python 3",
   "language": "python",
   "name": "python3"
  },
  "language_info": {
   "codemirror_mode": {
    "name": "ipython",
    "version": 3
   },
   "file_extension": ".py",
   "mimetype": "text/x-python",
   "name": "python",
   "nbconvert_exporter": "python",
   "pygments_lexer": "ipython3",
   "version": "3.7.6"
  }
 },
 "nbformat": 4,
 "nbformat_minor": 4
}
